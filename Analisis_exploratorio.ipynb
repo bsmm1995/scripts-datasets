{
  "cells": [
    {
      "cell_type": "markdown",
      "metadata": {
        "id": "BE7ER9_hfLBm"
      },
      "source": [
        "**Se importa las librerias y/o paquetes necesarios para codificar los procesos**"
      ]
    },
    {
      "cell_type": "code",
      "execution_count": null,
      "metadata": {
        "id": "X-fPXsnE2fjF"
      },
      "outputs": [],
      "source": [
        "from pydrive.auth import GoogleAuth\n",
        "from pydrive.drive import GoogleDrive\n",
        "from google.colab import auth\n",
        "from oauth2client.client import GoogleCredentials\n",
        "import pandas as pd\n",
        "import matplotlib.pyplot as plt\n",
        "from difflib import SequenceMatcher as SM\n",
        "from datetime import date\n",
        "from datetime import datetime\n",
        "import unicodedata\n",
        "import numpy as np\n",
        "import collections"
      ]
    },
    {
      "cell_type": "markdown",
      "metadata": {
        "id": "hT8UZCyAfdk8"
      },
      "source": [
        "**Realizamos la autentificación para poder acceder a los archivos almacenados en Google Drive**"
      ]
    },
    {
      "cell_type": "code",
      "execution_count": null,
      "metadata": {
        "id": "VGDn0mGrII9F"
      },
      "outputs": [],
      "source": [
        "auth.authenticate_user()\n",
        "gauth = GoogleAuth()\n",
        "gauth.credentials = GoogleCredentials.get_application_default()\n",
        "drive = GoogleDrive(gauth)"
      ]
    },
    {
      "cell_type": "markdown",
      "metadata": {
        "id": "7NHzHvDWf1A0"
      },
      "source": [
        "**Obtenemos el link del archivo csv, lo abrimos y se almacena en un dataframe**"
      ]
    },
    {
      "cell_type": "code",
      "execution_count": null,
      "metadata": {
        "colab": {
          "base_uri": "https://localhost:8080/"
        },
        "id": "V1azO9E2tHnC",
        "outputId": "67396cbe-da2e-4ec6-f805-53707b54c12f"
      },
      "outputs": [
        {
          "output_type": "execute_result",
          "data": {
            "text/plain": [
              "(918, 12)"
            ]
          },
          "metadata": {},
          "execution_count": 3
        }
      ],
      "source": [
        "df = pd.DataFrame()\n",
        "def _loadCsv():\n",
        "  global df\n",
        "  id = '1vPVmPr3-VP7xc8GkC5UvwRJG8Vhtv8BK'\n",
        "  downloaded = drive.CreateFile({'id':id}) \n",
        "  downloaded.GetContentFile('heart900.csv')\n",
        "  df = pd.read_csv('heart900.csv')\n",
        "_loadCsv()\n",
        "df.shape"
      ]
    },
    {
      "cell_type": "markdown",
      "metadata": {
        "id": "icVf1ryq19Sn"
      },
      "source": [
        "**Gráficas de la exploración de datos**"
      ]
    },
    {
      "cell_type": "code",
      "execution_count": null,
      "metadata": {
        "colab": {
          "base_uri": "https://localhost:8080/"
        },
        "id": "vqTuKbQvSJao",
        "outputId": "39d3b05b-f338-4e2f-a423-eebe2666405c"
      },
      "outputs": [
        {
          "output_type": "stream",
          "name": "stdout",
          "text": [
            "El archivo tiene el siguiente número de filas y columnas: (918, 12)\n",
            "Las columnas son: Index(['Age', 'Sex', 'ChestPainType', 'RestingBP', 'Cholesterol', 'FastingBS',\n",
            "       'RestingECG', 'MaxHR', 'ExerciseAngina', 'Oldpeak', 'ST_Slope',\n",
            "       'HeartDisease'],\n",
            "      dtype='object')\n"
          ]
        }
      ],
      "source": [
        "print('El archivo tiene el siguiente número de filas y columnas:', df.shape)\n",
        "print('Las columnas son:', df.columns)"
      ]
    },
    {
      "cell_type": "markdown",
      "source": [
        "Trasformar datos"
      ],
      "metadata": {
        "id": "CoHxWljKM9Cs"
      }
    },
    {
      "cell_type": "code",
      "source": [
        "df.loc[df.Sex == \"F\", 'Sex'] = 0\n",
        "df.loc[df.Sex == \"M\", 'Sex'] = 1\n",
        "\n",
        "df.loc[df.ChestPainType == \"ASY\", 'ChestPainType'] = 0\n",
        "df.loc[df.ChestPainType == \"ATA\", 'ChestPainType'] = 1\n",
        "df.loc[df.ChestPainType == \"NAP\", 'ChestPainType'] = 2\n",
        "df.loc[df.ChestPainType == \"TA\", 'ChestPainType'] = 3\n",
        "\n",
        "df.loc[df.RestingECG == \"LVH\", 'RestingECG'] = 0\n",
        "df.loc[df.RestingECG == \"Normal\", 'RestingECG'] = 1\n",
        "df.loc[df.RestingECG == \"ST\", 'RestingECG'] = 2\n",
        "\n",
        "df.loc[df.ExerciseAngina == \"N\", 'ExerciseAngina'] = 0\n",
        "df.loc[df.ExerciseAngina == \"Y\", 'ExerciseAngina'] = 1\n",
        "\n",
        "df.loc[df.ST_Slope == \"Down\", 'ST_Slope'] = 0\n",
        "df.loc[df.ST_Slope == \"Flat\", 'ST_Slope'] = 1\n",
        "df.loc[df.ST_Slope == \"Up\", 'ST_Slope'] = 2"
      ],
      "metadata": {
        "id": "7TS762ApM94B"
      },
      "execution_count": null,
      "outputs": []
    },
    {
      "cell_type": "code",
      "execution_count": null,
      "metadata": {
        "colab": {
          "base_uri": "https://localhost:8080/",
          "height": 300
        },
        "id": "fKLAsnVrWzdW",
        "outputId": "63376ca6-af17-4dc3-85e8-bbd92860500f"
      },
      "outputs": [
        {
          "output_type": "execute_result",
          "data": {
            "text/html": [
              "\n",
              "  <div id=\"df-be129201-7968-4c11-aaf0-ecfaf2d498c4\">\n",
              "    <div class=\"colab-df-container\">\n",
              "      <div>\n",
              "<style scoped>\n",
              "    .dataframe tbody tr th:only-of-type {\n",
              "        vertical-align: middle;\n",
              "    }\n",
              "\n",
              "    .dataframe tbody tr th {\n",
              "        vertical-align: top;\n",
              "    }\n",
              "\n",
              "    .dataframe thead th {\n",
              "        text-align: right;\n",
              "    }\n",
              "</style>\n",
              "<table border=\"1\" class=\"dataframe\">\n",
              "  <thead>\n",
              "    <tr style=\"text-align: right;\">\n",
              "      <th></th>\n",
              "      <th>Age</th>\n",
              "      <th>RestingBP</th>\n",
              "      <th>Cholesterol</th>\n",
              "      <th>FastingBS</th>\n",
              "      <th>MaxHR</th>\n",
              "      <th>Oldpeak</th>\n",
              "      <th>HeartDisease</th>\n",
              "    </tr>\n",
              "  </thead>\n",
              "  <tbody>\n",
              "    <tr>\n",
              "      <th>count</th>\n",
              "      <td>918.000000</td>\n",
              "      <td>918.000000</td>\n",
              "      <td>918.000000</td>\n",
              "      <td>918.000000</td>\n",
              "      <td>918.000000</td>\n",
              "      <td>918.000000</td>\n",
              "      <td>918.000000</td>\n",
              "    </tr>\n",
              "    <tr>\n",
              "      <th>mean</th>\n",
              "      <td>53.510893</td>\n",
              "      <td>132.396514</td>\n",
              "      <td>198.799564</td>\n",
              "      <td>0.233115</td>\n",
              "      <td>136.809368</td>\n",
              "      <td>0.887364</td>\n",
              "      <td>0.553377</td>\n",
              "    </tr>\n",
              "    <tr>\n",
              "      <th>std</th>\n",
              "      <td>9.432617</td>\n",
              "      <td>18.514154</td>\n",
              "      <td>109.384145</td>\n",
              "      <td>0.423046</td>\n",
              "      <td>25.460334</td>\n",
              "      <td>1.066570</td>\n",
              "      <td>0.497414</td>\n",
              "    </tr>\n",
              "    <tr>\n",
              "      <th>min</th>\n",
              "      <td>28.000000</td>\n",
              "      <td>0.000000</td>\n",
              "      <td>0.000000</td>\n",
              "      <td>0.000000</td>\n",
              "      <td>60.000000</td>\n",
              "      <td>-2.600000</td>\n",
              "      <td>0.000000</td>\n",
              "    </tr>\n",
              "    <tr>\n",
              "      <th>25%</th>\n",
              "      <td>47.000000</td>\n",
              "      <td>120.000000</td>\n",
              "      <td>173.250000</td>\n",
              "      <td>0.000000</td>\n",
              "      <td>120.000000</td>\n",
              "      <td>0.000000</td>\n",
              "      <td>0.000000</td>\n",
              "    </tr>\n",
              "    <tr>\n",
              "      <th>50%</th>\n",
              "      <td>54.000000</td>\n",
              "      <td>130.000000</td>\n",
              "      <td>223.000000</td>\n",
              "      <td>0.000000</td>\n",
              "      <td>138.000000</td>\n",
              "      <td>0.600000</td>\n",
              "      <td>1.000000</td>\n",
              "    </tr>\n",
              "    <tr>\n",
              "      <th>75%</th>\n",
              "      <td>60.000000</td>\n",
              "      <td>140.000000</td>\n",
              "      <td>267.000000</td>\n",
              "      <td>0.000000</td>\n",
              "      <td>156.000000</td>\n",
              "      <td>1.500000</td>\n",
              "      <td>1.000000</td>\n",
              "    </tr>\n",
              "    <tr>\n",
              "      <th>max</th>\n",
              "      <td>77.000000</td>\n",
              "      <td>200.000000</td>\n",
              "      <td>603.000000</td>\n",
              "      <td>1.000000</td>\n",
              "      <td>202.000000</td>\n",
              "      <td>6.200000</td>\n",
              "      <td>1.000000</td>\n",
              "    </tr>\n",
              "  </tbody>\n",
              "</table>\n",
              "</div>\n",
              "      <button class=\"colab-df-convert\" onclick=\"convertToInteractive('df-be129201-7968-4c11-aaf0-ecfaf2d498c4')\"\n",
              "              title=\"Convert this dataframe to an interactive table.\"\n",
              "              style=\"display:none;\">\n",
              "        \n",
              "  <svg xmlns=\"http://www.w3.org/2000/svg\" height=\"24px\"viewBox=\"0 0 24 24\"\n",
              "       width=\"24px\">\n",
              "    <path d=\"M0 0h24v24H0V0z\" fill=\"none\"/>\n",
              "    <path d=\"M18.56 5.44l.94 2.06.94-2.06 2.06-.94-2.06-.94-.94-2.06-.94 2.06-2.06.94zm-11 1L8.5 8.5l.94-2.06 2.06-.94-2.06-.94L8.5 2.5l-.94 2.06-2.06.94zm10 10l.94 2.06.94-2.06 2.06-.94-2.06-.94-.94-2.06-.94 2.06-2.06.94z\"/><path d=\"M17.41 7.96l-1.37-1.37c-.4-.4-.92-.59-1.43-.59-.52 0-1.04.2-1.43.59L10.3 9.45l-7.72 7.72c-.78.78-.78 2.05 0 2.83L4 21.41c.39.39.9.59 1.41.59.51 0 1.02-.2 1.41-.59l7.78-7.78 2.81-2.81c.8-.78.8-2.07 0-2.86zM5.41 20L4 18.59l7.72-7.72 1.47 1.35L5.41 20z\"/>\n",
              "  </svg>\n",
              "      </button>\n",
              "      \n",
              "  <style>\n",
              "    .colab-df-container {\n",
              "      display:flex;\n",
              "      flex-wrap:wrap;\n",
              "      gap: 12px;\n",
              "    }\n",
              "\n",
              "    .colab-df-convert {\n",
              "      background-color: #E8F0FE;\n",
              "      border: none;\n",
              "      border-radius: 50%;\n",
              "      cursor: pointer;\n",
              "      display: none;\n",
              "      fill: #1967D2;\n",
              "      height: 32px;\n",
              "      padding: 0 0 0 0;\n",
              "      width: 32px;\n",
              "    }\n",
              "\n",
              "    .colab-df-convert:hover {\n",
              "      background-color: #E2EBFA;\n",
              "      box-shadow: 0px 1px 2px rgba(60, 64, 67, 0.3), 0px 1px 3px 1px rgba(60, 64, 67, 0.15);\n",
              "      fill: #174EA6;\n",
              "    }\n",
              "\n",
              "    [theme=dark] .colab-df-convert {\n",
              "      background-color: #3B4455;\n",
              "      fill: #D2E3FC;\n",
              "    }\n",
              "\n",
              "    [theme=dark] .colab-df-convert:hover {\n",
              "      background-color: #434B5C;\n",
              "      box-shadow: 0px 1px 3px 1px rgba(0, 0, 0, 0.15);\n",
              "      filter: drop-shadow(0px 1px 2px rgba(0, 0, 0, 0.3));\n",
              "      fill: #FFFFFF;\n",
              "    }\n",
              "  </style>\n",
              "\n",
              "      <script>\n",
              "        const buttonEl =\n",
              "          document.querySelector('#df-be129201-7968-4c11-aaf0-ecfaf2d498c4 button.colab-df-convert');\n",
              "        buttonEl.style.display =\n",
              "          google.colab.kernel.accessAllowed ? 'block' : 'none';\n",
              "\n",
              "        async function convertToInteractive(key) {\n",
              "          const element = document.querySelector('#df-be129201-7968-4c11-aaf0-ecfaf2d498c4');\n",
              "          const dataTable =\n",
              "            await google.colab.kernel.invokeFunction('convertToInteractive',\n",
              "                                                     [key], {});\n",
              "          if (!dataTable) return;\n",
              "\n",
              "          const docLinkHtml = 'Like what you see? Visit the ' +\n",
              "            '<a target=\"_blank\" href=https://colab.research.google.com/notebooks/data_table.ipynb>data table notebook</a>'\n",
              "            + ' to learn more about interactive tables.';\n",
              "          element.innerHTML = '';\n",
              "          dataTable['output_type'] = 'display_data';\n",
              "          await google.colab.output.renderOutput(dataTable, element);\n",
              "          const docLink = document.createElement('div');\n",
              "          docLink.innerHTML = docLinkHtml;\n",
              "          element.appendChild(docLink);\n",
              "        }\n",
              "      </script>\n",
              "    </div>\n",
              "  </div>\n",
              "  "
            ],
            "text/plain": [
              "              Age   RestingBP  ...     Oldpeak  HeartDisease\n",
              "count  918.000000  918.000000  ...  918.000000    918.000000\n",
              "mean    53.510893  132.396514  ...    0.887364      0.553377\n",
              "std      9.432617   18.514154  ...    1.066570      0.497414\n",
              "min     28.000000    0.000000  ...   -2.600000      0.000000\n",
              "25%     47.000000  120.000000  ...    0.000000      0.000000\n",
              "50%     54.000000  130.000000  ...    0.600000      1.000000\n",
              "75%     60.000000  140.000000  ...    1.500000      1.000000\n",
              "max     77.000000  200.000000  ...    6.200000      1.000000\n",
              "\n",
              "[8 rows x 7 columns]"
            ]
          },
          "metadata": {},
          "execution_count": 6
        }
      ],
      "source": [
        "df.describe()"
      ]
    },
    {
      "cell_type": "code",
      "source": [
        "result = df.HeartDisease\n",
        "count = result.count()\n",
        "absence, presence = result.value_counts()\n",
        "\n",
        "porc_a = str(absence) + \" (\" + str(round(absence * 100 / count, 1)) + \" %)\" \n",
        "porc_p = str(presence) + \" (\" + str(round(presence * 100 / count, 1)) + \" %)\"\n",
        "\n",
        "plt.bar('Absence', absence)\n",
        "plt.bar('Presence', presence)\n",
        "\n",
        "plt.legend([porc_a, porc_p])\n",
        "plt.xlabel('Heart disease')\n",
        "plt.show()\n",
        "\n",
        "print(result.value_counts())"
      ],
      "metadata": {
        "colab": {
          "base_uri": "https://localhost:8080/",
          "height": 331
        },
        "id": "5CGGKTF6Wyaw",
        "outputId": "464b6846-ab00-4460-aa2f-f4b46ef33f8e"
      },
      "execution_count": null,
      "outputs": [
        {
          "output_type": "display_data",
          "data": {
            "image/png": "[encoded data removed]",
            "text/plain": [
              "<Figure size 432x288 with 1 Axes>"
            ]
          },
          "metadata": {
            "needs_background": "light"
          }
        },
        {
          "output_type": "stream",
          "name": "stdout",
          "text": [
            "1    508\n",
            "0    410\n",
            "Name: HeartDisease, dtype: int64\n"
          ]
        }
      ]
    },
    {
      "cell_type": "code",
      "execution_count": null,
      "metadata": {
        "id": "wMcxaHCsSHfG",
        "colab": {
          "base_uri": "https://localhost:8080/",
          "height": 351
        },
        "outputId": "683fa13e-b09e-4ccd-98ef-a84ae7580f66"
      },
      "outputs": [
        {
          "output_type": "stream",
          "name": "stderr",
          "text": [
            "/usr/local/lib/python3.7/dist-packages/seaborn/distributions.py:2619: FutureWarning: `distplot` is a deprecated function and will be removed in a future version. Please adapt your code to use either `displot` (a figure-level function with similar flexibility) or `histplot` (an axes-level function for histograms).\n",
            "  warnings.warn(msg, FutureWarning)\n"
          ]
        },
        {
          "output_type": "execute_result",
          "data": {
            "text/plain": [
              "<matplotlib.axes._subplots.AxesSubplot at 0x7fc734693090>"
            ]
          },
          "metadata": {},
          "execution_count": 8
        },
        {
          "output_type": "display_data",
          "data": {
            "image/png": "[encoded data removed]",
            "text/plain": [
              "<Figure size 432x288 with 1 Axes>"
            ]
          },
          "metadata": {
            "needs_background": "light"
          }
        }
      ],
      "source": [
        "import seaborn as sns\n",
        "sns.distplot(df['Age'])"
      ]
    },
    {
      "cell_type": "code",
      "execution_count": null,
      "metadata": {
        "id": "tnUD7ODTYsqM",
        "colab": {
          "base_uri": "https://localhost:8080/",
          "height": 331
        },
        "outputId": "5ee9ec7b-902d-4ec6-d288-b9d20d177a0a"
      },
      "outputs": [
        {
          "output_type": "stream",
          "name": "stdout",
          "text": [
            "1    725\n",
            "0    193\n",
            "Name: Sex, dtype: int64\n"
          ]
        },
        {
          "output_type": "display_data",
          "data": {
            "image/png": "[encoded data removed]",
            "text/plain": [
              "<Figure size 432x288 with 1 Axes>"
            ]
          },
          "metadata": {
            "needs_background": "light"
          }
        }
      ],
      "source": [
        "result = df.Sex\n",
        "count = result.count()\n",
        "result = result.value_counts()\n",
        "print(result)\n",
        "y = result[1]\n",
        "n = result[0]\n",
        "\n",
        "porc_y = str(y) + \" (\" + str(round(y * 100 / count, 1)) + \" %)\" \n",
        "porc_n = str(n) + \" (\" + str(round(n * 100 / count, 1)) + \" %)\"\n",
        "\n",
        "plt.bar('Male', y)\n",
        "plt.bar('Female', n)\n",
        "\n",
        "plt.legend([porc_y, porc_n])\n",
        "plt.xlabel('Gender')\n",
        "plt.show()"
      ]
    },
    {
      "cell_type": "code",
      "execution_count": null,
      "metadata": {
        "id": "cqacV8ingX0O",
        "colab": {
          "base_uri": "https://localhost:8080/",
          "height": 366
        },
        "outputId": "3aa53886-fcb6-4fad-9f42-b35ef775759b"
      },
      "outputs": [
        {
          "output_type": "stream",
          "name": "stdout",
          "text": [
            "0    496\n",
            "2    203\n",
            "1    173\n",
            "3     46\n",
            "Name: ChestPainType, dtype: int64\n"
          ]
        },
        {
          "output_type": "display_data",
          "data": {
            "image/png": "[encoded data removed]",
            "text/plain": [
              "<Figure size 432x288 with 1 Axes>"
            ]
          },
          "metadata": {
            "needs_background": "light"
          }
        }
      ],
      "source": [
        "result = df.ChestPainType\n",
        "count = result.count()\n",
        "result = result.value_counts()\n",
        "print(result)\n",
        "ASY = result[0]\n",
        "ATA = result[1]\n",
        "NAP = result[2]\n",
        "TA = result[3]\n",
        "\n",
        "porc_ASY = str(ASY) + \" (\" + str(round(ASY * 100 / count, 2)) + \" %)\" \n",
        "porc_ATA = str(ATA) + \" (\" + str(round(ATA * 100 / count, 2)) + \" %)\"\n",
        "porc_NAP = str(NAP) + \" (\" + str(round(NAP * 100 / count, 2)) + \" %)\"\n",
        "porc_TA = str(TA) + \" (\" + str(round(TA * 100 / count, 2)) + \" %)\"\n",
        "\n",
        "plt.bar('ASY', ASY)\n",
        "plt.bar('ATA', ATA)\n",
        "plt.bar('NAP', NAP)\n",
        "plt.bar('TA', TA)\n",
        "\n",
        "plt.legend([porc_ASY, porc_ATA, porc_NAP, porc_TA])\n",
        "plt.xlabel('Chest Pain Type')\n",
        "plt.show()"
      ]
    },
    {
      "cell_type": "code",
      "execution_count": null,
      "metadata": {
        "id": "H6ihjtvT18Ok",
        "colab": {
          "base_uri": "https://localhost:8080/",
          "height": 353
        },
        "outputId": "75b0898d-1db2-4911-8f68-986b2293db0b"
      },
      "outputs": [
        {
          "output_type": "stream",
          "name": "stderr",
          "text": [
            "/usr/local/lib/python3.7/dist-packages/seaborn/distributions.py:2619: FutureWarning: `distplot` is a deprecated function and will be removed in a future version. Please adapt your code to use either `displot` (a figure-level function with similar flexibility) or `histplot` (an axes-level function for histograms).\n",
            "  warnings.warn(msg, FutureWarning)\n"
          ]
        },
        {
          "output_type": "execute_result",
          "data": {
            "text/plain": [
              "<matplotlib.axes._subplots.AxesSubplot at 0x7fc731341e90>"
            ]
          },
          "metadata": {},
          "execution_count": 11
        },
        {
          "output_type": "display_data",
          "data": {
            "image/png": "[encoded data removed]",
            "text/plain": [
              "<Figure size 432x288 with 1 Axes>"
            ]
          },
          "metadata": {
            "needs_background": "light"
          }
        }
      ],
      "source": [
        "sns.distplot(df['RestingBP'])"
      ]
    },
    {
      "cell_type": "code",
      "execution_count": null,
      "metadata": {
        "id": "aLPaAzvzE51K",
        "colab": {
          "base_uri": "https://localhost:8080/",
          "height": 542
        },
        "outputId": "1327d3c9-b4a6-46e7-fd89-c21548d42308"
      },
      "outputs": [
        {
          "output_type": "stream",
          "name": "stderr",
          "text": [
            "/usr/local/lib/python3.7/dist-packages/seaborn/distributions.py:2619: FutureWarning: `distplot` is a deprecated function and will be removed in a future version. Please adapt your code to use either `displot` (a figure-level function with similar flexibility) or `histplot` (an axes-level function for histograms).\n",
            "  warnings.warn(msg, FutureWarning)\n"
          ]
        },
        {
          "output_type": "stream",
          "name": "stdout",
          "text": [
            "0      172\n",
            "254     11\n",
            "223     10\n",
            "220     10\n",
            "230      9\n",
            "      ... \n",
            "355      1\n",
            "354      1\n",
            "353      1\n",
            "349      1\n",
            "603      1\n",
            "Name: Cholesterol, Length: 222, dtype: int64\n"
          ]
        },
        {
          "output_type": "display_data",
          "data": {
            "image/png": "[encoded data removed]",
            "text/plain": [
              "<Figure size 432x288 with 1 Axes>"
            ]
          },
          "metadata": {
            "needs_background": "light"
          }
        }
      ],
      "source": [
        "sns.distplot(df['Cholesterol'])\n",
        "result = df.Cholesterol\n",
        "print(result.value_counts())"
      ]
    },
    {
      "cell_type": "code",
      "execution_count": null,
      "metadata": {
        "id": "Nx6UNZE9J-hP",
        "colab": {
          "base_uri": "https://localhost:8080/",
          "height": 331
        },
        "outputId": "1b248e6d-8bd1-4db8-8c12-419e161d0192"
      },
      "outputs": [
        {
          "output_type": "stream",
          "name": "stdout",
          "text": [
            "0    704\n",
            "1    214\n",
            "Name: FastingBS, dtype: int64\n"
          ]
        },
        {
          "output_type": "display_data",
          "data": {
            "image/png": "[encoded data removed]",
            "text/plain": [
              "<Figure size 432x288 with 1 Axes>"
            ]
          },
          "metadata": {
            "needs_background": "light"
          }
        }
      ],
      "source": [
        "result = df.FastingBS\n",
        "count = result.count()\n",
        "result = result.value_counts()\n",
        "print(result)\n",
        "y = result[1]\n",
        "n = result[0]\n",
        "\n",
        "porc_y = str(y) + \" (\" + str(round(y * 100 / count, 1)) + \" %)\" \n",
        "porc_n = str(n) + \" (\" + str(round(n * 100 / count, 1)) + \" %)\"\n",
        "\n",
        "plt.bar('1', y)\n",
        "plt.bar('0', n)\n",
        "\n",
        "plt.legend([porc_y, porc_n])\n",
        "plt.xlabel('FastingBS')\n",
        "plt.show()"
      ]
    },
    {
      "cell_type": "code",
      "execution_count": null,
      "metadata": {
        "id": "Y7RM2YbXLCW_",
        "colab": {
          "base_uri": "https://localhost:8080/",
          "height": 334
        },
        "outputId": "4ae3371e-2da9-4b9f-96cf-0114dc7e5519"
      },
      "outputs": [
        {
          "output_type": "stream",
          "name": "stdout",
          "text": [
            "1    552\n",
            "0    188\n",
            "2    178\n",
            "Name: RestingECG, dtype: int64\n"
          ]
        },
        {
          "output_type": "display_data",
          "data": {
            "image/png": "[encoded data removed]",
            "text/plain": [
              "<Figure size 432x288 with 1 Axes>"
            ]
          },
          "metadata": {
            "needs_background": "light"
          }
        }
      ],
      "source": [
        "result = df.RestingECG\n",
        "count = result.count()\n",
        "result = result.value_counts()\n",
        "print(result)\n",
        "\n",
        "n = result[0]\n",
        "y = result[1]\n",
        "z = result[2]\n",
        "\n",
        "porc_y = str(y) + \" (\" + str(round(y * 100 / count, 1)) + \" %)\" \n",
        "porc_n = str(n) + \" (\" + str(round(n * 100 / count, 1)) + \" %)\"\n",
        "porc_z = str(z) + \" (\" + str(round(z * 100 / count, 1)) + \" %)\"\n",
        "\n",
        "plt.bar('LVH', y)\n",
        "plt.bar('Normal', n)\n",
        "plt.bar('ST', z)\n",
        "\n",
        "plt.legend([porc_y, porc_n, porc_z])\n",
        "plt.show()"
      ]
    },
    {
      "cell_type": "code",
      "execution_count": null,
      "metadata": {
        "id": "CbkOKnIEK5um",
        "colab": {
          "base_uri": "https://localhost:8080/",
          "height": 265
        },
        "outputId": "9974cfc9-6223-455c-f71b-9c8e5af3dbc1"
      },
      "outputs": [
        {
          "output_type": "display_data",
          "data": {
            "image/png": "[encoded data removed]",
            "text/plain": [
              "<Figure size 432x288 with 1 Axes>"
            ]
          },
          "metadata": {
            "needs_background": "light"
          }
        }
      ],
      "source": [
        "result = df.MaxHR\n",
        "count = result.count()\n",
        "result = result.value_counts()\n",
        "result = result.to_dict()\n",
        "result = dict(sorted(result.items()))\n",
        "plt.bar(range(len(result)),list(result.values()), tick_label=list(result.keys()))  \n",
        "plt.ylabel('')\n",
        "plt.show() "
      ]
    },
    {
      "cell_type": "code",
      "source": [
        "sns.distplot(df['MaxHR'])"
      ],
      "metadata": {
        "colab": {
          "base_uri": "https://localhost:8080/",
          "height": 351
        },
        "id": "xDGIOLKV0dIi",
        "outputId": "5f5b1623-6400-4622-d314-03d911c05592"
      },
      "execution_count": null,
      "outputs": [
        {
          "output_type": "stream",
          "name": "stderr",
          "text": [
            "/usr/local/lib/python3.7/dist-packages/seaborn/distributions.py:2619: FutureWarning: `distplot` is a deprecated function and will be removed in a future version. Please adapt your code to use either `displot` (a figure-level function with similar flexibility) or `histplot` (an axes-level function for histograms).\n",
            "  warnings.warn(msg, FutureWarning)\n"
          ]
        },
        {
          "output_type": "execute_result",
          "data": {
            "text/plain": [
              "<matplotlib.axes._subplots.AxesSubplot at 0x7fc7311cb490>"
            ]
          },
          "metadata": {},
          "execution_count": 16
        },
        {
          "output_type": "display_data",
          "data": {
            "image/png": "[encoded data removed]",
            "text/plain": [
              "<Figure size 432x288 with 1 Axes>"
            ]
          },
          "metadata": {
            "needs_background": "light"
          }
        }
      ]
    },
    {
      "cell_type": "code",
      "execution_count": null,
      "metadata": {
        "id": "DfOyoQxdImWM",
        "colab": {
          "base_uri": "https://localhost:8080/",
          "height": 279
        },
        "outputId": "d10b041b-cf54-47aa-e046-fdc71c51f10e"
      },
      "outputs": [
        {
          "output_type": "display_data",
          "data": {
            "image/png": "[encoded data removed]",
            "text/plain": [
              "<Figure size 432x288 with 1 Axes>"
            ]
          },
          "metadata": {
            "needs_background": "light"
          }
        }
      ],
      "source": [
        "result = df.ExerciseAngina\n",
        "count = result.count()\n",
        "result = result.value_counts()\n",
        "y = result[1]\n",
        "n = result[0]\n",
        "\n",
        "porc_y = str(y) + \" (\" + str(round(y * 100 / count, 1)) + \" %)\" \n",
        "porc_n = str(n) + \" (\" + str(round(n * 100 / count, 1)) + \" %)\"\n",
        "\n",
        "plt.bar('Y', y)\n",
        "plt.bar('N', n)\n",
        "\n",
        "plt.legend([porc_y, porc_n])\n",
        "plt.xlabel('Exercise Angina')\n",
        "plt.show()"
      ]
    },
    {
      "cell_type": "code",
      "execution_count": null,
      "metadata": {
        "id": "8P5y_1WRMBvK",
        "colab": {
          "base_uri": "https://localhost:8080/",
          "height": 351
        },
        "outputId": "bc66e843-4dea-4deb-d204-d451543542df"
      },
      "outputs": [
        {
          "output_type": "stream",
          "name": "stderr",
          "text": [
            "/usr/local/lib/python3.7/dist-packages/seaborn/distributions.py:2619: FutureWarning: `distplot` is a deprecated function and will be removed in a future version. Please adapt your code to use either `displot` (a figure-level function with similar flexibility) or `histplot` (an axes-level function for histograms).\n",
            "  warnings.warn(msg, FutureWarning)\n"
          ]
        },
        {
          "output_type": "execute_result",
          "data": {
            "text/plain": [
              "<matplotlib.axes._subplots.AxesSubplot at 0x7fc733c08fd0>"
            ]
          },
          "metadata": {},
          "execution_count": 18
        },
        {
          "output_type": "display_data",
          "data": {
            "image/png": "[encoded data removed]",
            "text/plain": [
              "<Figure size 432x288 with 1 Axes>"
            ]
          },
          "metadata": {
            "needs_background": "light"
          }
        }
      ],
      "source": [
        "sns.distplot(df['Oldpeak'])"
      ]
    },
    {
      "cell_type": "code",
      "execution_count": null,
      "metadata": {
        "id": "zLzrd1jPMvAd",
        "colab": {
          "base_uri": "https://localhost:8080/",
          "height": 386
        },
        "outputId": "ece056ab-e782-4b37-85ae-920af48665f7"
      },
      "outputs": [
        {
          "output_type": "stream",
          "name": "stdout",
          "text": [
            "1    460\n",
            "2    395\n",
            "0     63\n",
            "Name: ST_Slope, dtype: int64\n",
            "460\n",
            "395\n",
            "63\n"
          ]
        },
        {
          "output_type": "display_data",
          "data": {
            "image/png": "[encoded data removed]",
            "text/plain": [
              "<Figure size 432x288 with 1 Axes>"
            ]
          },
          "metadata": {
            "needs_background": "light"
          }
        }
      ],
      "source": [
        "result = df.ST_Slope\n",
        "count = result.count()\n",
        "n, y, z = result.value_counts()\n",
        "print(result.value_counts())\n",
        "print(n)\n",
        "print(y)\n",
        "print(z)\n",
        "\n",
        "porc_y = str(y) + \" (\" + str(round(y * 100 / count, 1)) + \" %)\" \n",
        "porc_n = str(n) + \" (\" + str(round(n * 100 / count, 1)) + \" %)\"\n",
        "porc_z = str(z) + \" (\" + str(round(z * 100 / count, 1)) + \" %)\"\n",
        "\n",
        "plt.bar('Up', y)\n",
        "plt.bar('Flat', n)\n",
        "plt.bar('Down', z)\n",
        "\n",
        "plt.legend([porc_y, porc_n, porc_z])\n",
        "plt.show()"
      ]
    },
    {
      "cell_type": "code",
      "execution_count": null,
      "metadata": {
        "id": "yxf8wpCPViES",
        "colab": {
          "base_uri": "https://localhost:8080/",
          "height": 541
        },
        "outputId": "8b0aef9b-aabb-4372-fb1b-548122aa8e8b"
      },
      "outputs": [
        {
          "output_type": "display_data",
          "data": {
            "image/png": "[encoded data removed]",
            "text/plain": [
              "<Figure size 864x648 with 2 Axes>"
            ]
          },
          "metadata": {
            "needs_background": "light"
          }
        }
      ],
      "source": [
        "corrmat = df.corr()\n",
        "f, ax = plt.subplots(figsize=(12, 9))\n",
        "sns.heatmap(corrmat, vmax=1, square=True);"
      ]
    }
  ],
  "metadata": {
    "colab": {
      "collapsed_sections": [],
      "name": "Analisis exploratorio.ipynb",
      "provenance": []
    },
    "kernelspec": {
      "display_name": "Python 3",
      "name": "python3"
    }
  },
  "nbformat": 4,
  "nbformat_minor": 0
}